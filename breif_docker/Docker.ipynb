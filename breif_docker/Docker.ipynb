{
 "cells": [
  {
   "cell_type": "markdown",
   "id": "5c3cae7b",
   "metadata": {},
   "source": [
    "# <center> Docker </center>"
   ]
  },
  {
   "cell_type": "markdown",
   "id": "0a1ad8c9",
   "metadata": {},
   "source": [
    "---"
   ]
  },
  {
   "cell_type": "markdown",
   "id": "a1001e25",
   "metadata": {},
   "source": [
    "## Démarrer un conteneur"
   ]
  },
  {
   "cell_type": "markdown",
   "id": "8ccfdefc",
   "metadata": {},
   "source": [
    "`docker run [nom]`"
   ]
  },
  {
   "cell_type": "markdown",
   "id": "96bed2c7",
   "metadata": {},
   "source": [
    "- `d` pour détacher le conteneur du processus principal de la console. Il vous permet de continuer à utiliser la console pendant que votre conteneur tourne sur un autre processus ;\n",
    "\n",
    "\n",
    "- `p` pour définir l'utilisation de ports."
   ]
  },
  {
   "cell_type": "markdown",
   "id": "6a37b6b4",
   "metadata": {},
   "source": [
    "## Arrêter un conteneur\n",
    "\n",
    "`docker stop [nom]`"
   ]
  },
  {
   "cell_type": "markdown",
   "id": "c47c0891",
   "metadata": {},
   "source": [
    "## Kill un conteneur\n",
    "\n",
    "`docker kill [nom]`"
   ]
  },
  {
   "cell_type": "markdown",
   "id": "1a139513",
   "metadata": {},
   "source": [
    "## Supprimer un conteneur \n",
    "\n",
    "`docker rm [nom]`"
   ]
  },
  {
   "cell_type": "markdown",
   "id": "648e9f77",
   "metadata": {},
   "source": [
    "## Récupérez une image du Docker Hub\n",
    "\n",
    "`docker pull [nom]`"
   ]
  },
  {
   "cell_type": "markdown",
   "id": "191d1eac",
   "metadata": {},
   "source": [
    "## Affichez l'ensemble des conteneurs existants\n",
    "\n",
    "`docker ps`\n",
    "\n",
    "### Afficher les fichiers cachés\n",
    "\n",
    "`docker ps -a`\n",
    "\n",
    "### Afficher les images\n",
    "\n",
    "`docker images -a`"
   ]
  },
  {
   "cell_type": "markdown",
   "id": "2414a726",
   "metadata": {},
   "source": [
    "## Comment nettoyer mon système\n",
    "\n",
    "`docker system prune`"
   ]
  },
  {
   "cell_type": "markdown",
   "id": "4450c6c1",
   "metadata": {},
   "source": [
    "---"
   ]
  },
  {
   "cell_type": "markdown",
   "id": "076b557e",
   "metadata": {},
   "source": [
    "# Création d'un Dockerfile"
   ]
  },
  {
   "cell_type": "markdown",
   "id": "3372bba7",
   "metadata": {},
   "source": [
    "1- création d'un fichier nommé \"Dockerfile\"\n",
    "\n",
    "\n",
    "2- définir dans celui-ci l'image que vous allez utiliser comme base, grâce à l'instruction `FROM`\n",
    "\n",
    "\n",
    "3- l'instruction `RUN` pour exécuter une commande\n",
    "\n",
    "\n",
    "4- l'instruction  `ADD`  afin de copier ou de télécharger des fichiers dans l'image. \n",
    "\n",
    "\n",
    "5- l'instruction `WORKDIR` qui permet de modifier le répertoire courant. La commande est équivalente à une commande `cd` en ligne de commande. L'ensemble des commandes qui suivront seront toutes exécutées depuis le répertoire défini.\n",
    "\n",
    "\n",
    "6- L'instruction `EXPOSE` permet d'indiquer le port sur lequel l'application écoute.\n",
    "\n",
    "\n",
    "7- L'instruction `VOLUME` permet d'indiquer quel répertoire vous voulez partager avec votre host.\n",
    "\n",
    "\n",
    "8- `CMD` permet à notre conteneur de savoir quelle commande il doit exécuter lors de son démarrage.\n",
    "\n",
    "\n",
    "### Exemple de Dockerfile\n",
    "\n",
    "`FROM debian:9\n",
    "\n",
    "RUN apt-get update -yq \\\n",
    "&& apt-get install curl gnupg -yq \\\n",
    "&& curl -sL https://deb.nodesource.com/setup_10.x | bash \\\n",
    "&& apt-get install nodejs -yq \\\n",
    "&& apt-get clean -y\n",
    "\n",
    "ADD . /app/\n",
    "WORKDIR /app\n",
    "RUN npm install\n",
    "\n",
    "EXPOSE 2368\n",
    "VOLUME /app/logs\n",
    "\n",
    "CMD npm run start`"
   ]
  },
  {
   "cell_type": "markdown",
   "id": "b3ed0f45",
   "metadata": {},
   "source": [
    "`FROM` permet de définir l'image source ;\n",
    "\n",
    "\n",
    "`RUN` permet d’exécuter des commandes dans votre conteneur ;\n",
    "\n",
    "\n",
    "`ADD` permet d'ajouter des fichiers dans votre conteneur ;\n",
    "\n",
    "\n",
    "`WORKDIR` permet de définir votre répertoire de travail ;\n",
    "\n",
    "\n",
    "`EXPOSE` permet de définir les ports d'écoute par défaut ;\n",
    "\n",
    "\n",
    "`VOLUME` permet de définir les volumes utilisables ;\n",
    "\n",
    "\n",
    "`CMD` permet de définir la commande par défaut lors de l’exécution de vos conteneurs Docker."
   ]
  },
  {
   "cell_type": "markdown",
   "id": "b83c3496",
   "metadata": {},
   "source": [
    "`docker push`  vous permet d'envoyer vos images locales sur une registry ;\n",
    "\n",
    "`docker search`  vous permet de rechercher une image sur votre registry."
   ]
  },
  {
   "cell_type": "markdown",
   "id": "38365745",
   "metadata": {},
   "source": []
  }
 ],
 "metadata": {
  "kernelspec": {
   "display_name": "Python 3",
   "language": "python",
   "name": "python3"
  },
  "language_info": {
   "codemirror_mode": {
    "name": "ipython",
    "version": 3
   },
   "file_extension": ".py",
   "mimetype": "text/x-python",
   "name": "python",
   "nbconvert_exporter": "python",
   "pygments_lexer": "ipython3",
   "version": "3.8.3"
  }
 },
 "nbformat": 4,
 "nbformat_minor": 5
}
